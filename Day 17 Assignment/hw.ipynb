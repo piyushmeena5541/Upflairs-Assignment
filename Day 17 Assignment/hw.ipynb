{
 "cells": [
  {
   "cell_type": "code",
   "execution_count": 1,
   "metadata": {},
   "outputs": [],
   "source": [
    "import pandas as pd\n",
    "import numpy as np\n",
    "import matplotlib.pyplot as plt"
   ]
  },
  {
   "cell_type": "markdown",
   "metadata": {},
   "source": [
    "# Q1"
   ]
  },
  {
   "cell_type": "code",
   "execution_count": 45,
   "metadata": {},
   "outputs": [
    {
     "name": "stdout",
     "output_type": "stream",
     "text": [
      "Even Numbers\n",
      "96\n",
      "64\n",
      "12\n",
      "32\n",
      "56\n",
      "Sum of Even Numbers  260\n",
      "Average of Even Numbers  52.0\n",
      " \n",
      "Odd Numbers\n",
      "25\n",
      "41\n",
      "85\n",
      "35\n",
      "75\n",
      "9\n",
      "21\n",
      "23\n",
      "25\n",
      "Sum of Odd Numbers  339\n",
      "Average of Odd Numbers  37.666666666666664\n"
     ]
    }
   ],
   "source": [
    "lst = [25,41,85,96,35,64,75,9,12,21,32,23,25,56]\n",
    "print('Even Numbers')\n",
    "sum = 0\n",
    "count = 0\n",
    "for item in lst:   \n",
    "    if(item%2==0):       \n",
    "        print(item)\n",
    "        sum = sum + item           \n",
    "        item +=1\n",
    "        count+=1\n",
    "        \n",
    "print('Sum of Even Numbers ' ,sum)         \n",
    "avg = sum/count        \n",
    "print('Average of Even Numbers ' ,avg)    \n",
    "print(\" \")\n",
    "print('Odd Numbers')\n",
    "sum = 0\n",
    "count = 0\n",
    "for item in lst:   \n",
    "    if(item%2==1):       \n",
    "        print(item)\n",
    "        sum = sum + item           \n",
    "        item +=1\n",
    "        count+=1\n",
    "        \n",
    "print('Sum of Odd Numbers ' ,sum)         \n",
    "avg = sum/count        \n",
    "print('Average of Odd Numbers ' ,avg) \n",
    "\n",
    "\n"
   ]
  },
  {
   "cell_type": "markdown",
   "metadata": {},
   "source": [
    "# Q2"
   ]
  },
  {
   "cell_type": "code",
   "execution_count": 46,
   "metadata": {},
   "outputs": [
    {
     "name": "stdout",
     "output_type": "stream",
     "text": [
      "Linear Search: Found 32 at index 1\n",
      "Binary Search: Found 32 at index 1\n"
     ]
    }
   ],
   "source": [
    "# Linear Search\n",
    "def linear_search(arr, target):\n",
    "    for i in range(len(arr)):\n",
    "        if arr[i] == target:\n",
    "            return i\n",
    "    return -1  # Target not found\n",
    "\n",
    "# Binary Search \n",
    "def binary_search(arr, target):\n",
    "    low = 0\n",
    "    high = len(arr) - 1\n",
    "\n",
    "    while low <= high:\n",
    "        mid = (low + high) // 2\n",
    "        if arr[mid] == target:\n",
    "            return mid\n",
    "        elif arr[mid] < target:\n",
    "            low = mid + 1\n",
    "        else:\n",
    "            high = mid - 1\n",
    "\n",
    "    return -1  # Target not found\n",
    "\n",
    "arr = [12, 32, 56, 64, 96]\n",
    "target = 32\n",
    "\n",
    "# Linear Search\n",
    "linear_result = linear_search(arr, target)\n",
    "if linear_result != -1:\n",
    "    print(f\"Linear Search: Found {target} at index {linear_result}\")\n",
    "else:\n",
    "    print(\"Linear Search: Target not found\")\n",
    "\n",
    "# Binary Search\n",
    "binary_result = binary_search(arr, target)\n",
    "if binary_result != -1:\n",
    "    print(f\"Binary Search: Found {target} at index {binary_result}\")\n",
    "else:\n",
    "    print(\"Binary Search: Target not found\")\n"
   ]
  },
  {
   "cell_type": "markdown",
   "metadata": {},
   "source": [
    "# Q3"
   ]
  },
  {
   "cell_type": "code",
   "execution_count": 47,
   "metadata": {},
   "outputs": [
    {
     "name": "stdout",
     "output_type": "stream",
     "text": [
      "Original list: [25, 41, 85, 96, 35, 64, 75, 9, 12, 21, 32, 23, 25, 56]\n",
      "Squares of elements: [625, 1681, 7225, 9216, 1225, 4096, 5625, 81, 144, 441, 1024, 529, 625, 3136]\n",
      "Even numbers: [96, 64, 12, 32, 56]\n"
     ]
    }
   ],
   "source": [
    "lst = [25, 41, 85, 96, 35, 64, 75, 9, 12, 21, 32, 23, 25, 56]\n",
    "\n",
    "# Generating a list of square elements\n",
    "squares = [x**2 for x in lst]\n",
    "\n",
    "# Filtering even numbers\n",
    "evens = [x for x in lst if x % 2 == 0]\n",
    "\n",
    "print(\"Original list:\", lst)\n",
    "print(\"Squares of elements:\", squares)\n",
    "print(\"Even numbers:\", evens)"
   ]
  },
  {
   "cell_type": "markdown",
   "metadata": {},
   "source": [
    "# Q4"
   ]
  },
  {
   "cell_type": "code",
   "execution_count": null,
   "metadata": {},
   "outputs": [],
   "source": [
    "\"\"\"The lifecycle of a machine learning (ML) project encompasses all the stages from the initial conception of the project to its \n",
    "   deployment and maintenance. Here's a general overview of the typical stages in the lifecycle of an ML project:\n",
    "\n",
    "1. Problem Definition:\n",
    "    Define the problem you want to solve with machine learning.\n",
    "    Clearly understand the objectives and requirements of the project.\n",
    "    Define success metrics to measure the performance of your ML model.\n",
    "\n",
    "2. Data Collection:\n",
    "    Gather relevant data from various sources, ensuring it's of sufficient quality and quantity.\n",
    "    Perform data preprocessing tasks such as cleaning, normalization, and handling missing values.\n",
    "\n",
    "3. Exploratory Data Analysis (EDA):\n",
    "    Analyze and visualize the data to gain insights into its characteristics and relationships.\n",
    "    Identify patterns, trends, and anomalies in the data that may inform feature engineering and model selection.\n",
    "\n",
    "4. Feature Engineering:\n",
    "    Create new features or transform existing features to improve the performance of the ML model.\n",
    "    Select relevant features that contribute most to the predictive power of the model.\n",
    "\n",
    "5. Model Selection and Training:\n",
    "    Choose appropriate ML algorithms and techniques based on the problem and data characteristics.\n",
    "    Split the data into training, validation, and test sets.\n",
    "    Train multiple models and evaluate their performance using appropriate evaluation metrics.\n",
    "    Fine-tune hyperparameters to optimize model performance.\n",
    "\n",
    "6. Model Evaluation:\n",
    "    Assess the performance of the trained model on the validation and test sets.\n",
    "    Analyze metrics such as accuracy, precision, recall, F1-score, etc., to gauge the model's effectiveness.\n",
    "    Iterate on model selection, feature engineering, and hyperparameter tuning as needed.\n",
    "\n",
    "7. Model Deployment:\n",
    "    Deploy the trained model into production environment.\n",
    "    Integrate the model into the existing software infrastructure or application.\n",
    "    Monitor the model's performance and behavior in real-world scenarios.\n",
    "\n",
    "8. Model Monitoring and Maintenance:\n",
    "    Continuously monitor the deployed model for performance degradation or drift.\n",
    "    Retrain the model periodically using updated data to maintain its effectiveness.\n",
    "    Address any issues or bugs that arise in the deployed model.\n",
    "\n",
    "9. Documentation and Knowledge Sharing:\n",
    "    Document the entire ML project, including data sources, preprocessing steps, model architecture, hyperparameters, and deployment process.\n",
    "    Share knowledge and insights gained from the project with stakeholders, team members, and the broader community.\n",
    "\n",
    "10.Iterate and Improve:\n",
    "    Gather feedback from users and stakeholders to identify areas for improvement.\n",
    "    Iterate on the ML project lifecycle, incorporating new data, features, and techniques to enhance the model's performance and relevance.\n",
    "\n",
    "Throughout the lifecycle of an ML project, collaboration between data scientists, engineers, domain experts, and stakeholders is crucial for\n",
    "its success. Effective communication, documentation, and iteration are key principles to follow at each stage of the project.\"\"\""
   ]
  }
 ],
 "metadata": {
  "kernelspec": {
   "display_name": "Python 3",
   "language": "python",
   "name": "python3"
  },
  "language_info": {
   "codemirror_mode": {
    "name": "ipython",
    "version": 3
   },
   "file_extension": ".py",
   "mimetype": "text/x-python",
   "name": "python",
   "nbconvert_exporter": "python",
   "pygments_lexer": "ipython3",
   "version": "3.12.3"
  }
 },
 "nbformat": 4,
 "nbformat_minor": 2
}
