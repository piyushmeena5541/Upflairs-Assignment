{
 "cells": [
  {
   "cell_type": "markdown",
   "metadata": {},
   "source": [
    "# Q1 Multiple Inheritance"
   ]
  },
  {
   "cell_type": "code",
   "execution_count": 1,
   "metadata": {},
   "outputs": [
    {
     "name": "stdout",
     "output_type": "stream",
     "text": [
      "Woof!\n"
     ]
    }
   ],
   "source": [
    "# Parent class 1\n",
    "class Dog:\n",
    "    def speak(self):\n",
    "        return \"Woof!\"\n",
    "\n",
    "# Parent class 2\n",
    "class Cat:\n",
    "    def speak(self):\n",
    "        return \"Meow!\"\n",
    "\n",
    "# Child class inheriting from both Dog and Cat\n",
    "class DogCat(Dog, Cat):\n",
    "    pass\n",
    "\n",
    "# Creating an instance of DogCat\n",
    "my_pet = DogCat()\n",
    "\n",
    "# Accessing methods from both parent classes\n",
    "print(my_pet.speak())  # Output will depend on the order of inheritance, in this case, \"Woof!\"\n"
   ]
  },
  {
   "cell_type": "markdown",
   "metadata": {},
   "source": [
    "# Multilevel Inheritance"
   ]
  },
  {
   "cell_type": "code",
   "execution_count": 2,
   "metadata": {},
   "outputs": [
    {
     "name": "stdout",
     "output_type": "stream",
     "text": [
      "Species: Dog\n",
      "Name: Buddy\n",
      "Breed: Labrador Retriever\n",
      "Owner: John\n"
     ]
    }
   ],
   "source": [
    "# Parent class\n",
    "class Animal:\n",
    "    def __init__(self, species):\n",
    "        self.species = species\n",
    "\n",
    "    def display_species(self):\n",
    "        print(\"Species:\", self.species)\n",
    "\n",
    "# Child class inheriting from Animal\n",
    "class Dog(Animal):\n",
    "    def __init__(self, name, breed):\n",
    "        super().__init__(\"Dog\")\n",
    "        self.name = name\n",
    "        self.breed = breed\n",
    "\n",
    "    def display_details(self):\n",
    "        print(\"Name:\", self.name)\n",
    "        print(\"Breed:\", self.breed)\n",
    "\n",
    "# Grandchild class inheriting from Dog\n",
    "class GuideDog(Dog):\n",
    "    def __init__(self, name, breed, owner):\n",
    "        super().__init__(name, breed)\n",
    "        self.owner = owner\n",
    "\n",
    "    def display_owner(self):\n",
    "        print(\"Owner:\", self.owner)\n",
    "\n",
    "# Creating an instance of GuideDog\n",
    "my_guide_dog = GuideDog(\"Buddy\", \"Labrador Retriever\", \"John\")\n",
    "\n",
    "# Accessing methods from all levels of inheritance\n",
    "my_guide_dog.display_species()\n",
    "my_guide_dog.display_details()\n",
    "my_guide_dog.display_owner()\n"
   ]
  },
  {
   "cell_type": "markdown",
   "metadata": {},
   "source": [
    "# Q2"
   ]
  },
  {
   "cell_type": "code",
   "execution_count": 5,
   "metadata": {},
   "outputs": [
    {
     "name": "stdout",
     "output_type": "stream",
     "text": [
      "Precision: 0.6666666666666666\n",
      "Recall: 0.6666666666666666\n"
     ]
    }
   ],
   "source": [
    "def precision_recall_from_confusion_matrix(conf_matrix):\n",
    "    \"\"\"\n",
    "    Calculate precision and recall scores from a confusion matrix.\n",
    "\n",
    "    Args:\n",
    "    - conf_matrix: Confusion matrix as a list of lists or a 2D numpy array.\n",
    "      The confusion matrix should be in the format:\n",
    "      [[TN, FP],\n",
    "       [FN, TP]]\n",
    "\n",
    "    Returns:\n",
    "    - precision: Precision score.\n",
    "    - recall: Recall score.\n",
    "    \"\"\"\n",
    "    # Extract values from the confusion matrix\n",
    "    TN, FP = conf_matrix[0][0], conf_matrix[0][1]\n",
    "    FN, TP = conf_matrix[1][0], conf_matrix[1][1]\n",
    "\n",
    "    # Calculate precision and recall\n",
    "    precision = TP / (TP + FP) if (TP + FP) > 0 else 0\n",
    "    recall = TP / (TP + FN) if (TP + FN) > 0 else 0\n",
    "\n",
    "    return precision, recall\n",
    "\n",
    "# Example usage:\n",
    "conf_matrix = [[1, 1],\n",
    "               [1, 2]]\n",
    "precision, recall = precision_recall_from_confusion_matrix(conf_matrix)\n",
    "print(\"Precision:\", precision)\n",
    "print(\"Recall:\", recall)\n"
   ]
  },
  {
   "cell_type": "markdown",
   "metadata": {},
   "source": [
    "# Q3"
   ]
  },
  {
   "cell_type": "code",
   "execution_count": 6,
   "metadata": {},
   "outputs": [
    {
     "name": "stdout",
     "output_type": "stream",
     "text": [
      "True Positives (TP): 1\n",
      "False Positives (FP): 2\n",
      "False Negatives (FN): 1\n",
      "True Negatives (TN): 1\n"
     ]
    }
   ],
   "source": [
    "# Given predictions and actual labels\n",
    "predictions = [0, 1, 0, 1, 1]\n",
    "actual = [0, 1, 1, 0, 0]\n",
    "\n",
    "# Initialize components of confusion matrix\n",
    "TP = 0\n",
    "FP = 0\n",
    "FN = 0\n",
    "TN = 0\n",
    "\n",
    "# Iterate over predictions and actual labels to calculate components\n",
    "for pred, act in zip(predictions, actual):\n",
    "    if pred == 1 and act == 1:\n",
    "        TP += 1\n",
    "    elif pred == 1 and act == 0:\n",
    "        FP += 1\n",
    "    elif pred == 0 and act == 1:\n",
    "        FN += 1\n",
    "    else:\n",
    "        TN += 1\n",
    "\n",
    "# Print components of confusion matrix\n",
    "print(\"True Positives (TP):\", TP)\n",
    "print(\"False Positives (FP):\", FP)\n",
    "print(\"False Negatives (FN):\", FN)\n",
    "print(\"True Negatives (TN):\", TN)\n"
   ]
  }
 ],
 "metadata": {
  "kernelspec": {
   "display_name": "Python 3",
   "language": "python",
   "name": "python3"
  },
  "language_info": {
   "codemirror_mode": {
    "name": "ipython",
    "version": 3
   },
   "file_extension": ".py",
   "mimetype": "text/x-python",
   "name": "python",
   "nbconvert_exporter": "python",
   "pygments_lexer": "ipython3",
   "version": "3.12.3"
  }
 },
 "nbformat": 4,
 "nbformat_minor": 2
}
